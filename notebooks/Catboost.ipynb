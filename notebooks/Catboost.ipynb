{
 "cells": [
  {
   "cell_type": "code",
   "execution_count": 782,
   "id": "0760ab24-2540-4c5e-81ff-6bbf00885de2",
   "metadata": {},
   "outputs": [],
   "source": [
    "import pandas as pd\n",
    "import numpy as np\n",
    "import matplotlib.pyplot as plt\n",
    "\n",
    "from sklearn.model_selection import train_test_split\n",
    "from sklearn.metrics import mean_absolute_error, mean_squared_error\n",
    "from sklearn.preprocessing import StandardScaler\n",
    "from sklearn.model_selection import RandomizedSearchCV\n",
    "from sklearn.model_selection import cross_val_score\n",
    "from sklearn.metrics import f1_score, roc_curve, roc_auc_score\n",
    "from sklearn.linear_model import LogisticRegression\n",
    "from sklearn.utils import shuffle\n",
    "import pickle as pk\n",
    "\n",
    "from catboost import CatBoostClassifier\n",
    "from catboost import CatBoostRegressor\n",
    "\n",
    "from sklearn.metrics import f1_score\n",
    "\n",
    "import seaborn as sns"
   ]
  },
  {
   "cell_type": "code",
   "execution_count": 987,
   "id": "b5ddcd47-724c-43fa-a25f-850245f894e0",
   "metadata": {},
   "outputs": [],
   "source": [
    "num=0"
   ]
  },
  {
   "cell_type": "code",
   "execution_count": 988,
   "id": "639e1ab1-5dfa-42f5-8042-f49e01016396",
   "metadata": {},
   "outputs": [
    {
     "data": {
      "text/html": [
       "<div>\n",
       "<style scoped>\n",
       "    .dataframe tbody tr th:only-of-type {\n",
       "        vertical-align: middle;\n",
       "    }\n",
       "\n",
       "    .dataframe tbody tr th {\n",
       "        vertical-align: top;\n",
       "    }\n",
       "\n",
       "    .dataframe thead th {\n",
       "        text-align: right;\n",
       "    }\n",
       "</style>\n",
       "<table border=\"1\" class=\"dataframe\">\n",
       "  <thead>\n",
       "    <tr style=\"text-align: right;\">\n",
       "      <th></th>\n",
       "      <th>customer_id</th>\n",
       "      <th>total_revenue</th>\n",
       "      <th>average_revenue</th>\n",
       "      <th>count</th>\n",
       "      <th>sauces</th>\n",
       "      <th>main_food</th>\n",
       "      <th>snacks</th>\n",
       "      <th>cold_drinks</th>\n",
       "      <th>hot_drinks</th>\n",
       "      <th>alco</th>\n",
       "      <th>...</th>\n",
       "      <th>churn_rate_mean</th>\n",
       "      <th>churn_rate_std</th>\n",
       "      <th>favourite_outlet_id</th>\n",
       "      <th>favourite_churn_rate</th>\n",
       "      <th>day_diff_1</th>\n",
       "      <th>day_diff_2</th>\n",
       "      <th>day_diff_mean</th>\n",
       "      <th>day_diff_std</th>\n",
       "      <th>buy_post</th>\n",
       "      <th>date_diff_post</th>\n",
       "    </tr>\n",
       "  </thead>\n",
       "  <tbody>\n",
       "    <tr>\n",
       "      <th>0</th>\n",
       "      <td>29891</td>\n",
       "      <td>5087.35</td>\n",
       "      <td>203.494</td>\n",
       "      <td>25</td>\n",
       "      <td>0.12</td>\n",
       "      <td>0.68</td>\n",
       "      <td>0.28</td>\n",
       "      <td>0.2</td>\n",
       "      <td>0.04</td>\n",
       "      <td>0.0</td>\n",
       "      <td>...</td>\n",
       "      <td>0.805103</td>\n",
       "      <td>0.000515</td>\n",
       "      <td>384</td>\n",
       "      <td>0.804954</td>\n",
       "      <td>69117.0</td>\n",
       "      <td>3277.0</td>\n",
       "      <td>35680.041667</td>\n",
       "      <td>27886.883065</td>\n",
       "      <td>1</td>\n",
       "      <td>9.0</td>\n",
       "    </tr>\n",
       "    <tr>\n",
       "      <th>1</th>\n",
       "      <td>30477</td>\n",
       "      <td>5675.60</td>\n",
       "      <td>227.024</td>\n",
       "      <td>25</td>\n",
       "      <td>0.44</td>\n",
       "      <td>0.68</td>\n",
       "      <td>0.68</td>\n",
       "      <td>0.2</td>\n",
       "      <td>0.32</td>\n",
       "      <td>0.0</td>\n",
       "      <td>...</td>\n",
       "      <td>0.798152</td>\n",
       "      <td>0.000000</td>\n",
       "      <td>321</td>\n",
       "      <td>0.798152</td>\n",
       "      <td>81408.0</td>\n",
       "      <td>70296.0</td>\n",
       "      <td>50319.833333</td>\n",
       "      <td>34380.524421</td>\n",
       "      <td>1</td>\n",
       "      <td>10.0</td>\n",
       "    </tr>\n",
       "    <tr>\n",
       "      <th>2</th>\n",
       "      <td>44491</td>\n",
       "      <td>514.90</td>\n",
       "      <td>128.725</td>\n",
       "      <td>4</td>\n",
       "      <td>0.25</td>\n",
       "      <td>0.25</td>\n",
       "      <td>0.25</td>\n",
       "      <td>0.0</td>\n",
       "      <td>0.00</td>\n",
       "      <td>0.0</td>\n",
       "      <td>...</td>\n",
       "      <td>0.821527</td>\n",
       "      <td>0.001253</td>\n",
       "      <td>508</td>\n",
       "      <td>0.820901</td>\n",
       "      <td>74503.0</td>\n",
       "      <td>71628.0</td>\n",
       "      <td>53026.333333</td>\n",
       "      <td>45237.435574</td>\n",
       "      <td>1</td>\n",
       "      <td>42.0</td>\n",
       "    </tr>\n",
       "  </tbody>\n",
       "</table>\n",
       "<p>3 rows × 22 columns</p>\n",
       "</div>"
      ],
      "text/plain": [
       "   customer_id  total_revenue  average_revenue  count  sauces  main_food  \\\n",
       "0        29891        5087.35          203.494     25    0.12       0.68   \n",
       "1        30477        5675.60          227.024     25    0.44       0.68   \n",
       "2        44491         514.90          128.725      4    0.25       0.25   \n",
       "\n",
       "   snacks  cold_drinks  hot_drinks  alco  ...  churn_rate_mean  \\\n",
       "0    0.28          0.2        0.04   0.0  ...         0.805103   \n",
       "1    0.68          0.2        0.32   0.0  ...         0.798152   \n",
       "2    0.25          0.0        0.00   0.0  ...         0.821527   \n",
       "\n",
       "   churn_rate_std  favourite_outlet_id  favourite_churn_rate  day_diff_1  \\\n",
       "0        0.000515                  384              0.804954     69117.0   \n",
       "1        0.000000                  321              0.798152     81408.0   \n",
       "2        0.001253                  508              0.820901     74503.0   \n",
       "\n",
       "   day_diff_2  day_diff_mean  day_diff_std  buy_post  date_diff_post  \n",
       "0      3277.0   35680.041667  27886.883065         1             9.0  \n",
       "1     70296.0   50319.833333  34380.524421         1            10.0  \n",
       "2     71628.0   53026.333333  45237.435574         1            42.0  \n",
       "\n",
       "[3 rows x 22 columns]"
      ]
     },
     "execution_count": 988,
     "metadata": {},
     "output_type": "execute_result"
    }
   ],
   "source": [
    "data_train = pd.read_csv('data/data_train_full.csv', index_col=[0])\n",
    "data_train.head(3)"
   ]
  },
  {
   "cell_type": "code",
   "execution_count": 989,
   "id": "38910aca-5474-4cc2-9a3f-c8d2166b408e",
   "metadata": {},
   "outputs": [
    {
     "data": {
      "text/html": [
       "<div>\n",
       "<style scoped>\n",
       "    .dataframe tbody tr th:only-of-type {\n",
       "        vertical-align: middle;\n",
       "    }\n",
       "\n",
       "    .dataframe tbody tr th {\n",
       "        vertical-align: top;\n",
       "    }\n",
       "\n",
       "    .dataframe thead th {\n",
       "        text-align: right;\n",
       "    }\n",
       "</style>\n",
       "<table border=\"1\" class=\"dataframe\">\n",
       "  <thead>\n",
       "    <tr style=\"text-align: right;\">\n",
       "      <th></th>\n",
       "      <th>customer_id</th>\n",
       "      <th>total_revenue</th>\n",
       "      <th>average_revenue</th>\n",
       "      <th>count</th>\n",
       "      <th>sauces</th>\n",
       "      <th>main_food</th>\n",
       "      <th>snacks</th>\n",
       "      <th>cold_drinks</th>\n",
       "      <th>hot_drinks</th>\n",
       "      <th>alco</th>\n",
       "      <th>...</th>\n",
       "      <th>churn_rate_mean</th>\n",
       "      <th>churn_rate_std</th>\n",
       "      <th>favourite_outlet_id</th>\n",
       "      <th>favourite_churn_rate</th>\n",
       "      <th>day_diff_1</th>\n",
       "      <th>day_diff_2</th>\n",
       "      <th>day_diff_mean</th>\n",
       "      <th>day_diff_std</th>\n",
       "      <th>buy_post</th>\n",
       "      <th>date_diff_post</th>\n",
       "    </tr>\n",
       "  </thead>\n",
       "  <tbody>\n",
       "    <tr>\n",
       "      <th>0</th>\n",
       "      <td>45006</td>\n",
       "      <td>1567.84</td>\n",
       "      <td>522.613333</td>\n",
       "      <td>3</td>\n",
       "      <td>0.333333</td>\n",
       "      <td>1.666667</td>\n",
       "      <td>2.000000</td>\n",
       "      <td>1.333333</td>\n",
       "      <td>0.333333</td>\n",
       "      <td>0.0</td>\n",
       "      <td>...</td>\n",
       "      <td>0.789930</td>\n",
       "      <td>0.019053</td>\n",
       "      <td>149</td>\n",
       "      <td>0.769391</td>\n",
       "      <td>84455.0</td>\n",
       "      <td>59379.0</td>\n",
       "      <td>72889.500000</td>\n",
       "      <td>16356.086956</td>\n",
       "      <td>0</td>\n",
       "      <td>NaN</td>\n",
       "    </tr>\n",
       "    <tr>\n",
       "      <th>1</th>\n",
       "      <td>45067</td>\n",
       "      <td>7561.40</td>\n",
       "      <td>164.378261</td>\n",
       "      <td>46</td>\n",
       "      <td>0.000000</td>\n",
       "      <td>0.652174</td>\n",
       "      <td>0.608696</td>\n",
       "      <td>0.152174</td>\n",
       "      <td>0.913043</td>\n",
       "      <td>0.0</td>\n",
       "      <td>...</td>\n",
       "      <td>0.806065</td>\n",
       "      <td>0.031809</td>\n",
       "      <td>172</td>\n",
       "      <td>0.777151</td>\n",
       "      <td>66211.0</td>\n",
       "      <td>75094.0</td>\n",
       "      <td>28759.355556</td>\n",
       "      <td>30316.384504</td>\n",
       "      <td>1</td>\n",
       "      <td>4.0</td>\n",
       "    </tr>\n",
       "    <tr>\n",
       "      <th>2</th>\n",
       "      <td>45321</td>\n",
       "      <td>569.96</td>\n",
       "      <td>142.490000</td>\n",
       "      <td>4</td>\n",
       "      <td>0.000000</td>\n",
       "      <td>0.250000</td>\n",
       "      <td>0.000000</td>\n",
       "      <td>0.000000</td>\n",
       "      <td>0.000000</td>\n",
       "      <td>0.0</td>\n",
       "      <td>...</td>\n",
       "      <td>0.780506</td>\n",
       "      <td>0.000404</td>\n",
       "      <td>193</td>\n",
       "      <td>0.780304</td>\n",
       "      <td>1453.0</td>\n",
       "      <td>629.0</td>\n",
       "      <td>57174.666667</td>\n",
       "      <td>48259.405740</td>\n",
       "      <td>1</td>\n",
       "      <td>39.0</td>\n",
       "    </tr>\n",
       "  </tbody>\n",
       "</table>\n",
       "<p>3 rows × 22 columns</p>\n",
       "</div>"
      ],
      "text/plain": [
       "   customer_id  total_revenue  average_revenue  count    sauces  main_food  \\\n",
       "0        45006        1567.84       522.613333      3  0.333333   1.666667   \n",
       "1        45067        7561.40       164.378261     46  0.000000   0.652174   \n",
       "2        45321         569.96       142.490000      4  0.000000   0.250000   \n",
       "\n",
       "     snacks  cold_drinks  hot_drinks  alco  ...  churn_rate_mean  \\\n",
       "0  2.000000     1.333333    0.333333   0.0  ...         0.789930   \n",
       "1  0.608696     0.152174    0.913043   0.0  ...         0.806065   \n",
       "2  0.000000     0.000000    0.000000   0.0  ...         0.780506   \n",
       "\n",
       "   churn_rate_std  favourite_outlet_id  favourite_churn_rate  day_diff_1  \\\n",
       "0        0.019053                  149              0.769391     84455.0   \n",
       "1        0.031809                  172              0.777151     66211.0   \n",
       "2        0.000404                  193              0.780304      1453.0   \n",
       "\n",
       "   day_diff_2  day_diff_mean  day_diff_std  buy_post  date_diff_post  \n",
       "0     59379.0   72889.500000  16356.086956         0             NaN  \n",
       "1     75094.0   28759.355556  30316.384504         1             4.0  \n",
       "2       629.0   57174.666667  48259.405740         1            39.0  \n",
       "\n",
       "[3 rows x 22 columns]"
      ]
     },
     "execution_count": 989,
     "metadata": {},
     "output_type": "execute_result"
    }
   ],
   "source": [
    "data_valid = pd.read_csv('data/data_valid_full.csv', index_col=[0])\n",
    "data_valid.head(3)"
   ]
  },
  {
   "cell_type": "code",
   "execution_count": 990,
   "id": "05f5d8b8-45f6-4f1e-9424-8293667f2be5",
   "metadata": {},
   "outputs": [
    {
     "data": {
      "text/html": [
       "<div>\n",
       "<style scoped>\n",
       "    .dataframe tbody tr th:only-of-type {\n",
       "        vertical-align: middle;\n",
       "    }\n",
       "\n",
       "    .dataframe tbody tr th {\n",
       "        vertical-align: top;\n",
       "    }\n",
       "\n",
       "    .dataframe thead th {\n",
       "        text-align: right;\n",
       "    }\n",
       "</style>\n",
       "<table border=\"1\" class=\"dataframe\">\n",
       "  <thead>\n",
       "    <tr style=\"text-align: right;\">\n",
       "      <th></th>\n",
       "      <th>customer_id</th>\n",
       "      <th>total_revenue</th>\n",
       "      <th>average_revenue</th>\n",
       "      <th>count</th>\n",
       "      <th>sauces</th>\n",
       "      <th>main_food</th>\n",
       "      <th>snacks</th>\n",
       "      <th>cold_drinks</th>\n",
       "      <th>hot_drinks</th>\n",
       "      <th>alco</th>\n",
       "      <th>...</th>\n",
       "      <th>churn_rate_mean</th>\n",
       "      <th>churn_rate_std</th>\n",
       "      <th>favourite_outlet_id</th>\n",
       "      <th>favourite_churn_rate</th>\n",
       "      <th>day_diff_1</th>\n",
       "      <th>day_diff_2</th>\n",
       "      <th>day_diff_mean</th>\n",
       "      <th>day_diff_std</th>\n",
       "      <th>buy_post</th>\n",
       "      <th>date_diff_post</th>\n",
       "    </tr>\n",
       "  </thead>\n",
       "  <tbody>\n",
       "    <tr>\n",
       "      <th>0</th>\n",
       "      <td>31426</td>\n",
       "      <td>9393.59</td>\n",
       "      <td>391.399583</td>\n",
       "      <td>24</td>\n",
       "      <td>1.500000</td>\n",
       "      <td>0.916667</td>\n",
       "      <td>0.875</td>\n",
       "      <td>0.083333</td>\n",
       "      <td>0.000000</td>\n",
       "      <td>0.0</td>\n",
       "      <td>...</td>\n",
       "      <td>0.797179</td>\n",
       "      <td>0.000000</td>\n",
       "      <td>305</td>\n",
       "      <td>0.797179</td>\n",
       "      <td>19397.0</td>\n",
       "      <td>20330.0</td>\n",
       "      <td>38319.304348</td>\n",
       "      <td>30118.504015</td>\n",
       "      <td>1</td>\n",
       "      <td>4.0</td>\n",
       "    </tr>\n",
       "    <tr>\n",
       "      <th>1</th>\n",
       "      <td>44939</td>\n",
       "      <td>1664.83</td>\n",
       "      <td>554.943333</td>\n",
       "      <td>3</td>\n",
       "      <td>2.333333</td>\n",
       "      <td>1.000000</td>\n",
       "      <td>3.000</td>\n",
       "      <td>1.000000</td>\n",
       "      <td>0.666667</td>\n",
       "      <td>0.0</td>\n",
       "      <td>...</td>\n",
       "      <td>0.837751</td>\n",
       "      <td>0.014255</td>\n",
       "      <td>643</td>\n",
       "      <td>0.845982</td>\n",
       "      <td>22972.0</td>\n",
       "      <td>38684.0</td>\n",
       "      <td>19342.000000</td>\n",
       "      <td>5133.595231</td>\n",
       "      <td>1</td>\n",
       "      <td>9.0</td>\n",
       "    </tr>\n",
       "    <tr>\n",
       "      <th>2</th>\n",
       "      <td>45404</td>\n",
       "      <td>2317.90</td>\n",
       "      <td>772.633333</td>\n",
       "      <td>3</td>\n",
       "      <td>0.333333</td>\n",
       "      <td>1.666667</td>\n",
       "      <td>4.000</td>\n",
       "      <td>1.666667</td>\n",
       "      <td>0.000000</td>\n",
       "      <td>0.0</td>\n",
       "      <td>...</td>\n",
       "      <td>0.795320</td>\n",
       "      <td>0.002997</td>\n",
       "      <td>280</td>\n",
       "      <td>0.793590</td>\n",
       "      <td>50994.0</td>\n",
       "      <td>6364.0</td>\n",
       "      <td>46382.000000</td>\n",
       "      <td>6522.352950</td>\n",
       "      <td>1</td>\n",
       "      <td>18.0</td>\n",
       "    </tr>\n",
       "  </tbody>\n",
       "</table>\n",
       "<p>3 rows × 22 columns</p>\n",
       "</div>"
      ],
      "text/plain": [
       "   customer_id  total_revenue  average_revenue  count    sauces  main_food  \\\n",
       "0        31426        9393.59       391.399583     24  1.500000   0.916667   \n",
       "1        44939        1664.83       554.943333      3  2.333333   1.000000   \n",
       "2        45404        2317.90       772.633333      3  0.333333   1.666667   \n",
       "\n",
       "   snacks  cold_drinks  hot_drinks  alco  ...  churn_rate_mean  \\\n",
       "0   0.875     0.083333    0.000000   0.0  ...         0.797179   \n",
       "1   3.000     1.000000    0.666667   0.0  ...         0.837751   \n",
       "2   4.000     1.666667    0.000000   0.0  ...         0.795320   \n",
       "\n",
       "   churn_rate_std  favourite_outlet_id  favourite_churn_rate  day_diff_1  \\\n",
       "0        0.000000                  305              0.797179     19397.0   \n",
       "1        0.014255                  643              0.845982     22972.0   \n",
       "2        0.002997                  280              0.793590     50994.0   \n",
       "\n",
       "   day_diff_2  day_diff_mean  day_diff_std  buy_post  date_diff_post  \n",
       "0     20330.0   38319.304348  30118.504015         1             4.0  \n",
       "1     38684.0   19342.000000   5133.595231         1             9.0  \n",
       "2      6364.0   46382.000000   6522.352950         1            18.0  \n",
       "\n",
       "[3 rows x 22 columns]"
      ]
     },
     "execution_count": 990,
     "metadata": {},
     "output_type": "execute_result"
    }
   ],
   "source": [
    "data_test = pd.read_csv('data/data_test_full.csv', index_col=[0])\n",
    "data_test.head(3)"
   ]
  },
  {
   "cell_type": "code",
   "execution_count": 991,
   "id": "b91637af-3989-42bd-a928-aa93ac3504fa",
   "metadata": {},
   "outputs": [
    {
     "data": {
      "text/html": [
       "<div>\n",
       "<style scoped>\n",
       "    .dataframe tbody tr th:only-of-type {\n",
       "        vertical-align: middle;\n",
       "    }\n",
       "\n",
       "    .dataframe tbody tr th {\n",
       "        vertical-align: top;\n",
       "    }\n",
       "\n",
       "    .dataframe thead th {\n",
       "        text-align: right;\n",
       "    }\n",
       "</style>\n",
       "<table border=\"1\" class=\"dataframe\">\n",
       "  <thead>\n",
       "    <tr style=\"text-align: right;\">\n",
       "      <th></th>\n",
       "      <th>customer_id</th>\n",
       "      <th>total_revenue</th>\n",
       "      <th>average_revenue</th>\n",
       "      <th>count</th>\n",
       "      <th>weekday</th>\n",
       "      <th>time_of_day</th>\n",
       "      <th>sauces</th>\n",
       "      <th>main_food</th>\n",
       "      <th>snacks</th>\n",
       "      <th>cold_drinks</th>\n",
       "      <th>...</th>\n",
       "      <th>ownareaall_sqm_mean</th>\n",
       "      <th>favourite_format_name</th>\n",
       "      <th>churn_rate_mean</th>\n",
       "      <th>churn_rate_std</th>\n",
       "      <th>favourite_outlet_id</th>\n",
       "      <th>favourite_churn_rate</th>\n",
       "      <th>day_diff_1</th>\n",
       "      <th>day_diff_2</th>\n",
       "      <th>day_diff_mean</th>\n",
       "      <th>day_diff_std</th>\n",
       "    </tr>\n",
       "  </thead>\n",
       "  <tbody>\n",
       "    <tr>\n",
       "      <th>0</th>\n",
       "      <td>52341</td>\n",
       "      <td>2255.77</td>\n",
       "      <td>563.942500</td>\n",
       "      <td>4</td>\n",
       "      <td>5</td>\n",
       "      <td>2</td>\n",
       "      <td>1.000000</td>\n",
       "      <td>1.000000</td>\n",
       "      <td>2.000000</td>\n",
       "      <td>0.750000</td>\n",
       "      <td>...</td>\n",
       "      <td>338.900000</td>\n",
       "      <td>Отдельно стоящий с внешней зоной</td>\n",
       "      <td>0.809749</td>\n",
       "      <td>0.000000</td>\n",
       "      <td>448</td>\n",
       "      <td>0.809749</td>\n",
       "      <td>2614.0</td>\n",
       "      <td>6315.0</td>\n",
       "      <td>30814.000000</td>\n",
       "      <td>47905.546328</td>\n",
       "    </tr>\n",
       "    <tr>\n",
       "      <th>1</th>\n",
       "      <td>69175</td>\n",
       "      <td>3872.76</td>\n",
       "      <td>430.306667</td>\n",
       "      <td>9</td>\n",
       "      <td>3</td>\n",
       "      <td>2</td>\n",
       "      <td>1.000000</td>\n",
       "      <td>1.666667</td>\n",
       "      <td>1.222222</td>\n",
       "      <td>1.000000</td>\n",
       "      <td>...</td>\n",
       "      <td>255.066667</td>\n",
       "      <td>Отдельно стоящий с внешней зоной</td>\n",
       "      <td>0.815982</td>\n",
       "      <td>0.013455</td>\n",
       "      <td>444</td>\n",
       "      <td>0.809201</td>\n",
       "      <td>21908.0</td>\n",
       "      <td>22493.0</td>\n",
       "      <td>31461.000000</td>\n",
       "      <td>27735.756298</td>\n",
       "    </tr>\n",
       "    <tr>\n",
       "      <th>2</th>\n",
       "      <td>73427</td>\n",
       "      <td>7881.45</td>\n",
       "      <td>254.240323</td>\n",
       "      <td>31</td>\n",
       "      <td>3</td>\n",
       "      <td>3</td>\n",
       "      <td>0.451613</td>\n",
       "      <td>0.741935</td>\n",
       "      <td>0.612903</td>\n",
       "      <td>0.354839</td>\n",
       "      <td>...</td>\n",
       "      <td>177.040645</td>\n",
       "      <td>Отдельно стоящий</td>\n",
       "      <td>0.800560</td>\n",
       "      <td>0.017137</td>\n",
       "      <td>332</td>\n",
       "      <td>0.795728</td>\n",
       "      <td>73063.0</td>\n",
       "      <td>44965.0</td>\n",
       "      <td>36877.433333</td>\n",
       "      <td>30565.998453</td>\n",
       "    </tr>\n",
       "  </tbody>\n",
       "</table>\n",
       "<p>3 rows × 24 columns</p>\n",
       "</div>"
      ],
      "text/plain": [
       "   customer_id  total_revenue  average_revenue  count  weekday  time_of_day  \\\n",
       "0        52341        2255.77       563.942500      4        5            2   \n",
       "1        69175        3872.76       430.306667      9        3            2   \n",
       "2        73427        7881.45       254.240323     31        3            3   \n",
       "\n",
       "     sauces  main_food    snacks  cold_drinks  ...  ownareaall_sqm_mean  \\\n",
       "0  1.000000   1.000000  2.000000     0.750000  ...           338.900000   \n",
       "1  1.000000   1.666667  1.222222     1.000000  ...           255.066667   \n",
       "2  0.451613   0.741935  0.612903     0.354839  ...           177.040645   \n",
       "\n",
       "              favourite_format_name  churn_rate_mean  churn_rate_std  \\\n",
       "0  Отдельно стоящий с внешней зоной         0.809749        0.000000   \n",
       "1  Отдельно стоящий с внешней зоной         0.815982        0.013455   \n",
       "2                  Отдельно стоящий         0.800560        0.017137   \n",
       "\n",
       "   favourite_outlet_id favourite_churn_rate  day_diff_1  day_diff_2  \\\n",
       "0                  448             0.809749      2614.0      6315.0   \n",
       "1                  444             0.809201     21908.0     22493.0   \n",
       "2                  332             0.795728     73063.0     44965.0   \n",
       "\n",
       "   day_diff_mean  day_diff_std  \n",
       "0   30814.000000  47905.546328  \n",
       "1   31461.000000  27735.756298  \n",
       "2   36877.433333  30565.998453  \n",
       "\n",
       "[3 rows x 24 columns]"
      ]
     },
     "execution_count": 991,
     "metadata": {},
     "output_type": "execute_result"
    }
   ],
   "source": [
    "data_submit = pd.read_csv('data/data_submit_full.csv', index_col=[0])\n",
    "data_submit.head(3)"
   ]
  },
  {
   "cell_type": "code",
   "execution_count": 1052,
   "id": "56cdb096-2e6b-4fe7-bdc1-758da8cfc46b",
   "metadata": {},
   "outputs": [],
   "source": [
    "train = data_train\n",
    "valid = data_valid\n",
    "test = data_test"
   ]
  },
  {
   "cell_type": "code",
   "execution_count": 1053,
   "id": "7d90a638-1444-4b73-a995-c293cd76487d",
   "metadata": {},
   "outputs": [
    {
     "data": {
      "text/plain": [
       "Index(['customer_id', 'total_revenue', 'average_revenue', 'count', 'sauces',\n",
       "       'main_food', 'snacks', 'cold_drinks', 'hot_drinks', 'alco', 'desert',\n",
       "       'ownareaall_sqm_mean', 'churn_rate_mean', 'churn_rate_std',\n",
       "       'favourite_outlet_id', 'favourite_churn_rate', 'day_diff_1',\n",
       "       'day_diff_2', 'day_diff_mean', 'day_diff_std', 'buy_post',\n",
       "       'date_diff_post'],\n",
       "      dtype='object')"
      ]
     },
     "execution_count": 1053,
     "metadata": {},
     "output_type": "execute_result"
    }
   ],
   "source": [
    "train.columns"
   ]
  },
  {
   "cell_type": "code",
   "execution_count": 1054,
   "id": "8845f756-4b9a-4f17-82b5-fd3e8f8d54ab",
   "metadata": {},
   "outputs": [],
   "source": [
    "train_columns = ['customer_id', 'total_revenue', 'average_revenue', 'count', 'sauces',\n",
    "       'snacks', 'cold_drinks', 'hot_drinks', 'alco',\n",
    "       'ownareaall_sqm_mean', 'churn_rate_mean', 'churn_rate_std',\n",
    "       'favourite_outlet_id', 'favourite_churn_rate', 'day_diff_1',\n",
    "       'day_diff_2', 'day_diff_mean']"
   ]
  },
  {
   "cell_type": "code",
   "execution_count": 1055,
   "id": "ff88e5d9-4500-44d9-8f47-44ad6ad6b2f9",
   "metadata": {},
   "outputs": [],
   "source": [
    "cat_features = []"
   ]
  },
  {
   "cell_type": "code",
   "execution_count": 1056,
   "id": "9fef3c51-9c85-406d-ab98-33d349d6af12",
   "metadata": {},
   "outputs": [],
   "source": [
    "X_train = train[train_columns]\n",
    "y_train = train['buy_post']"
   ]
  },
  {
   "cell_type": "code",
   "execution_count": 1057,
   "id": "bf5bb278-4cd1-4ef5-8c09-e0e75212e819",
   "metadata": {},
   "outputs": [],
   "source": [
    "X_valid = valid[train_columns]\n",
    "y_valid = valid['buy_post']"
   ]
  },
  {
   "cell_type": "code",
   "execution_count": 1058,
   "id": "398433d8-14d8-45f5-9997-55145349e398",
   "metadata": {},
   "outputs": [],
   "source": [
    "X_test = test[train_columns]\n",
    "y_test = test['buy_post']"
   ]
  },
  {
   "cell_type": "code",
   "execution_count": 1059,
   "id": "fe9ef15d-c623-48aa-8db0-25aa740476c7",
   "metadata": {},
   "outputs": [
    {
     "data": {
      "text/plain": [
       "1    0.504977\n",
       "0    0.495023\n",
       "Name: buy_post, dtype: float64"
      ]
     },
     "execution_count": 1059,
     "metadata": {},
     "output_type": "execute_result"
    }
   ],
   "source": [
    "def downsample(features, target, fraction):\n",
    "    features_zeros = features[target == 0]\n",
    "    features_ones = features[target == 1]\n",
    "    target_zeros = target[target == 0]\n",
    "    target_ones = target[target == 1]\n",
    "\n",
    "    features_downsampled = pd.concat(\n",
    "        [features_ones.sample(frac=fraction, random_state=12345)] + [features_zeros])\n",
    "    target_downsampled = pd.concat(\n",
    "        [target_ones.sample(frac=fraction, random_state=12345)] + [target_zeros])\n",
    "    \n",
    "    features_downsampled, target_downsampled = shuffle(\n",
    "        features_downsampled, target_downsampled, random_state=12345)\n",
    "    \n",
    "    return features_downsampled, target_downsampled\n",
    "\n",
    "X_train_downsampled, y_train_downsampled = downsample(X_train, y_train, 0.4)\n",
    "\n",
    "y_train_downsampled.value_counts() / y_train_downsampled.shape[0]"
   ]
  },
  {
   "cell_type": "code",
   "execution_count": 1088,
   "id": "7cc40644-51a9-445e-9fed-41a18a76136c",
   "metadata": {},
   "outputs": [
    {
     "data": {
      "text/plain": [
       "1    0.560465\n",
       "0    0.439535\n",
       "Name: buy_post, dtype: float64"
      ]
     },
     "execution_count": 1088,
     "metadata": {},
     "output_type": "execute_result"
    }
   ],
   "source": [
    "def upsample(features, target, repeat):\n",
    "    features_zeros = features[target == 0]\n",
    "    features_ones = features[target == 1]\n",
    "    target_zeros = target[target == 0]\n",
    "    target_ones = target[target == 1]\n",
    "\n",
    "    features_upsampled = pd.concat([features_zeros] * repeat + [features_ones] )\n",
    "    target_upsampled = pd.concat([target_zeros]* repeat + [target_ones] )\n",
    "    \n",
    "    features_upsampled, target_upsampled = shuffle(\n",
    "        features_upsampled, target_upsampled, random_state=12345)\n",
    "    \n",
    "    return features_upsampled, target_upsampled\n",
    "\n",
    "X_train_upsampled, y_train_upsampled = upsample(X_train, y_train, 2)\n",
    "\n",
    "y_train_upsampled.value_counts() / y_train_upsampled.shape[0]"
   ]
  },
  {
   "cell_type": "markdown",
   "id": "95d40cae-81a9-4ae6-b56d-a18b4cb2b61b",
   "metadata": {},
   "source": [
    "### Классификация"
   ]
  },
  {
   "cell_type": "code",
   "execution_count": 1128,
   "id": "da5769f8-7e24-4559-af2c-c32ecfb56d28",
   "metadata": {},
   "outputs": [
    {
     "data": {
      "text/plain": [
       "{'nan_mode': 'Min',\n",
       " 'eval_metric': 'Logloss',\n",
       " 'iterations': 100,\n",
       " 'sampling_frequency': 'PerTree',\n",
       " 'leaf_estimation_method': 'Newton',\n",
       " 'random_score_type': 'NormalWithModelSizeDecrease',\n",
       " 'grow_policy': 'SymmetricTree',\n",
       " 'penalties_coefficient': 1,\n",
       " 'boosting_type': 'Plain',\n",
       " 'model_shrink_mode': 'Constant',\n",
       " 'feature_border_type': 'GreedyLogSum',\n",
       " 'bayesian_matrix_reg': 0.10000000149011612,\n",
       " 'eval_fraction': 0,\n",
       " 'force_unit_auto_pair_weights': False,\n",
       " 'l2_leaf_reg': 3,\n",
       " 'random_strength': 1,\n",
       " 'rsm': 1,\n",
       " 'boost_from_average': False,\n",
       " 'model_size_reg': 0.5,\n",
       " 'pool_metainfo_options': {'tags': {}},\n",
       " 'subsample': 0.800000011920929,\n",
       " 'use_best_model': True,\n",
       " 'class_names': [0, 1],\n",
       " 'random_seed': 666,\n",
       " 'depth': 6,\n",
       " 'posterior_sampling': False,\n",
       " 'border_count': 254,\n",
       " 'classes_count': 0,\n",
       " 'auto_class_weights': 'None',\n",
       " 'sparse_features_conflict_fraction': 0,\n",
       " 'leaf_estimation_backtracking': 'AnyImprovement',\n",
       " 'best_model_min_trees': 1,\n",
       " 'model_shrink_rate': 0,\n",
       " 'min_data_in_leaf': 1,\n",
       " 'loss_function': 'Logloss',\n",
       " 'learning_rate': 0.37529799342155457,\n",
       " 'score_function': 'Cosine',\n",
       " 'task_type': 'CPU',\n",
       " 'leaf_estimation_iterations': 1,\n",
       " 'bootstrap_type': 'MVS',\n",
       " 'max_leaves': 64}"
      ]
     },
     "execution_count": 1128,
     "metadata": {},
     "output_type": "execute_result"
    }
   ],
   "source": [
    "clf.get_all_params()"
   ]
  },
  {
   "cell_type": "code",
   "execution_count": 1134,
   "id": "17067516-19e7-45ec-8a2b-a11d8cdf3082",
   "metadata": {},
   "outputs": [
    {
     "data": {
      "application/vnd.jupyter.widget-view+json": {
       "model_id": "478a045ded2c4ff599359c4a7a23cd6c",
       "version_major": 2,
       "version_minor": 0
      },
      "text/plain": [
       "MetricVisualizer(layout=Layout(align_self='stretch', height='500px'))"
      ]
     },
     "metadata": {},
     "output_type": "display_data"
    },
    {
     "name": "stdout",
     "output_type": "stream",
     "text": [
      "F1: 0.8205566250621518\n",
      "ROC-AUC: 0.7031353406839957\n"
     ]
    }
   ],
   "source": [
    "\n",
    "\n",
    "clf = CatBoostClassifier(random_seed=666, iterations=2000, eval_metric='F1')\n",
    "\n",
    "clf.fit(\n",
    "    X_train_upsampled, y_train_upsampled,\n",
    "    cat_features=cat_features,\n",
    "    eval_set=(X_valid, y_valid),\n",
    "    verbose=False,\n",
    "    plot=True)\n",
    "\n",
    "predicted_valid = clf.predict(X_valid)\n",
    "f1_score(y_valid, predicted_valid)\n",
    "\n",
    "print('F1:', best_f1_score_upsampled)\n",
    "print('ROC-AUC:', roc_auc_score(y_valid, probabilities_upsampled))"
   ]
  },
  {
   "cell_type": "code",
   "execution_count": 1135,
   "id": "9dfc8187-dafd-4eca-a959-def134bd5846",
   "metadata": {},
   "outputs": [
    {
     "data": {
      "image/png": "[encoded data removed]",
      "text/plain": [
       "<Figure size 1000x600 with 1 Axes>"
      ]
     },
     "metadata": {},
     "output_type": "display_data"
    }
   ],
   "source": [
    "feature_importance = clf.feature_importances_\n",
    "sorted_idx = np.argsort(feature_importance)\n",
    "fig = plt.figure(figsize=(10, 6))\n",
    "plt.barh(range(len(sorted_idx)), feature_importance[sorted_idx], align='center')\n",
    "plt.yticks(range(len(sorted_idx)), np.array(X_train.columns)[sorted_idx])\n",
    "plt.title('Важность признаков');"
   ]
  },
  {
   "cell_type": "code",
   "execution_count": 1136,
   "id": "469945ab-b1aa-4b67-8a50-ffe7f9d66fe3",
   "metadata": {},
   "outputs": [
    {
     "data": {
      "image/png": "[encoded data removed]",
      "text/plain": [
       "<Figure size 640x480 with 1 Axes>"
      ]
     },
     "metadata": {},
     "output_type": "display_data"
    }
   ],
   "source": [
    "fpr_rf, tpr_rf, thresholds = roc_curve(y_valid, clf.predict_proba(X_valid)[:, 1])\n",
    "plt.plot([0, 1], [0, 1], 'k--' )\n",
    "plt.plot(fpr_rf, tpr_rf, color = \"r\")\n",
    "plt.xlabel('False Positive Rate')\n",
    "plt.ylabel('True Positive Rate')\n",
    "plt.title('ROC Curve',fontsize=16)\n",
    "plt.show();"
   ]
  },
  {
   "cell_type": "code",
   "execution_count": 1138,
   "id": "dc4503f5-c8f7-4002-84e9-b1b01d6f9ccb",
   "metadata": {},
   "outputs": [
    {
     "name": "stdout",
     "output_type": "stream",
     "text": [
      "F1: 0.8205566250621518\n"
     ]
    }
   ],
   "source": [
    "predicted_test = clf.predict(X_test)\n",
    "f1_score(y_test, predicted_test)\n",
    "\n",
    "print('F1:', best_f1_score_upsampled)"
   ]
  },
  {
   "cell_type": "code",
   "execution_count": 1139,
   "id": "11faa070-3947-44de-9f75-695232d40f02",
   "metadata": {},
   "outputs": [],
   "source": [
    "X_submit = data_submit[train_columns]\n",
    "predicted_submit = clf.predict(X_submit)"
   ]
  },
  {
   "cell_type": "code",
   "execution_count": 1140,
   "id": "8d1999a5-15b3-4cb1-955f-754c197a4d25",
   "metadata": {},
   "outputs": [],
   "source": [
    "data_submit['buy_post'] = predicted_submit"
   ]
  },
  {
   "cell_type": "code",
   "execution_count": 1141,
   "id": "4a9121d0-0040-495b-97d6-d337fff9d8d2",
   "metadata": {},
   "outputs": [
    {
     "data": {
      "text/plain": [
       "0.5671212633752916"
      ]
     },
     "execution_count": 1141,
     "metadata": {},
     "output_type": "execute_result"
    }
   ],
   "source": [
    "data_submit['buy_post'].mean()"
   ]
  },
  {
   "cell_type": "code",
   "execution_count": 1143,
   "id": "2a7a289d-fa4b-449d-9953-655b7d327071",
   "metadata": {},
   "outputs": [],
   "source": [
    "with open(f\"cat_classifier{num}.pkl\", \"wb\") as f:\n",
    "            pk.dump(clf, f)"
   ]
  },
  {
   "cell_type": "markdown",
   "id": "0492ed45-fe50-40b1-a42b-54664ce5be1e",
   "metadata": {},
   "source": [
    "### Регрессия"
   ]
  },
  {
   "cell_type": "code",
   "execution_count": 1144,
   "id": "4bb05ef8-6f61-4130-b2a5-eb5e2cfed627",
   "metadata": {},
   "outputs": [],
   "source": [
    "train_reg = data_train.dropna()\n",
    "valid_reg = data_valid.dropna()\n",
    "test_reg = data_test.dropna()"
   ]
  },
  {
   "cell_type": "code",
   "execution_count": 1145,
   "id": "d1c8c34a-3e4d-45b8-8df1-1dfba02655f2",
   "metadata": {},
   "outputs": [],
   "source": [
    "X_train_reg = train_reg[train_columns]\n",
    "y_train_reg = train_reg['date_diff_post']\n",
    "\n",
    "X_valid_reg = valid_reg[train_columns]\n",
    "y_valid_reg = valid_reg['date_diff_post']\n",
    "\n",
    "X_test_reg = test_reg[train_columns]\n",
    "y_test_reg = test_reg['date_diff_post']"
   ]
  },
  {
   "cell_type": "code",
   "execution_count": 1146,
   "id": "d4a3add2-58ce-4a60-837a-3797131925cd",
   "metadata": {},
   "outputs": [
    {
     "data": {
      "application/vnd.jupyter.widget-view+json": {
       "model_id": "b12af7a990db420b87ad968b2f340f67",
       "version_major": 2,
       "version_minor": 0
      },
      "text/plain": [
       "MetricVisualizer(layout=Layout(align_self='stretch', height='500px'))"
      ]
     },
     "metadata": {},
     "output_type": "display_data"
    },
    {
     "data": {
      "text/plain": [
       "<catboost.core.CatBoostRegressor at 0x16c39e56710>"
      ]
     },
     "execution_count": 1146,
     "metadata": {},
     "output_type": "execute_result"
    }
   ],
   "source": [
    "reg = CatBoostRegressor(\n",
    "    random_seed=666,\n",
    "    iterations=50, \n",
    "    max_depth=4\n",
    ")\n",
    "\n",
    "reg.fit(\n",
    "    X_train_reg, y_train_reg,\n",
    "    cat_features=cat_features,\n",
    "    eval_set=(X_valid_reg, y_valid_reg),\n",
    "    verbose=False,\n",
    "    plot=True\n",
    ")"
   ]
  },
  {
   "cell_type": "code",
   "execution_count": 1147,
   "id": "9fd4ed8c-e185-4fa4-83f5-149a198d43d8",
   "metadata": {},
   "outputs": [
    {
     "data": {
      "text/plain": [
       "14.328497739144975"
      ]
     },
     "execution_count": 1147,
     "metadata": {},
     "output_type": "execute_result"
    }
   ],
   "source": [
    "best_predict = reg.predict(X_test_reg)\n",
    "mean_squared_error(y_test_reg, best_predict) ** 0.5"
   ]
  },
  {
   "cell_type": "code",
   "execution_count": 1148,
   "id": "ffc979ee-c0a1-4dc1-b6bc-67d6f6b84003",
   "metadata": {},
   "outputs": [],
   "source": [
    "submit_predict = reg.predict(X_submit)\n",
    "data_submit['date_diff_post'] = submit_predict"
   ]
  },
  {
   "cell_type": "code",
   "execution_count": 1149,
   "id": "9b484a42-9cc0-46f7-b38b-a80815c26cee",
   "metadata": {},
   "outputs": [],
   "source": [
    "result = data_submit[['customer_id', 'date_diff_post', 'buy_post']]\n",
    "result.to_csv('result.csv', sep=';')"
   ]
  },
  {
   "cell_type": "code",
   "execution_count": 1150,
   "id": "1b05f751-db29-4262-93c1-176ce682afb8",
   "metadata": {},
   "outputs": [],
   "source": [
    "with open(f\"cat_regression{num}.pkl\", \"wb\") as f:\n",
    "            pk.dump(reg, f)"
   ]
  },
  {
   "cell_type": "code",
   "execution_count": 1151,
   "id": "3e8aec95-32b6-404b-b271-627660068e8f",
   "metadata": {},
   "outputs": [],
   "source": [
    "num+=1"
   ]
  }
 ],
 "metadata": {
  "kernelspec": {
   "display_name": "Python 3 (ipykernel)",
   "language": "python",
   "name": "python3"
  },
  "language_info": {
   "codemirror_mode": {
    "name": "ipython",
    "version": 3
   },
   "file_extension": ".py",
   "mimetype": "text/x-python",
   "name": "python",
   "nbconvert_exporter": "python",
   "pygments_lexer": "ipython3",
   "version": "3.10.9"
  }
 },
 "nbformat": 4,
 "nbformat_minor": 5
}
