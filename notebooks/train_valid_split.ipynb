{
 "cells": [
  {
   "cell_type": "code",
   "execution_count": 1,
   "id": "55afe448-0fbd-40e2-bbbe-54c67b4fcffb",
   "metadata": {},
   "outputs": [],
   "source": [
    "import pandas as pd\n",
    "import numpy as np\n",
    "\n",
    "from sklearn.model_selection import train_test_split"
   ]
  },
  {
   "cell_type": "code",
   "execution_count": 2,
   "id": "3c8b4679-a2f4-4052-ab86-2991ea970a8b",
   "metadata": {},
   "outputs": [],
   "source": [
    "# Замените 'your_file.parquet' на путь к вашему файлу Parquet\n",
    "file_path = 'train_dataset_hackaton2023_train.gzip'\n",
    "\n",
    "# Чтение файла Parquet\n",
    "df = pd.read_parquet(file_path)"
   ]
  },
  {
   "cell_type": "code",
   "execution_count": 12,
   "id": "1d2645cd-8507-4220-ac56-e1b8530599b2",
   "metadata": {},
   "outputs": [
    {
     "data": {
      "text/plain": [
       "500000"
      ]
     },
     "execution_count": 12,
     "metadata": {},
     "output_type": "execute_result"
    }
   ],
   "source": [
    "customers= df['customer_id'].unique()\n",
    "len(customers)"
   ]
  },
  {
   "cell_type": "code",
   "execution_count": 13,
   "id": "78e4b363-8db9-4d67-bc6e-92d379cb1151",
   "metadata": {},
   "outputs": [],
   "source": [
    "data_train, data_valid = train_test_split(customers, test_size=0.4, random_state=666)\n",
    "data_test, data_valid = train_test_split(data_valid, test_size=0.5, random_state=666)"
   ]
  },
  {
   "cell_type": "code",
   "execution_count": 14,
   "id": "631c76aa-9d71-4c5b-a898-6aa952b3ab28",
   "metadata": {},
   "outputs": [
    {
     "data": {
      "text/plain": [
       "((300000,), (100000,), (100000,))"
      ]
     },
     "execution_count": 14,
     "metadata": {},
     "output_type": "execute_result"
    }
   ],
   "source": [
    "data_train.shape, data_valid.shape, data_test.shape"
   ]
  },
  {
   "cell_type": "code",
   "execution_count": 15,
   "id": "875c3ab5-b315-4f7e-a705-48b174b3d6bc",
   "metadata": {},
   "outputs": [],
   "source": [
    "df_train = df[df.customer_id.isin(data_train)]\n",
    "df_valid = df[df.customer_id.isin(data_valid)]\n",
    "df_test = df[df.customer_id.isin(data_test)]"
   ]
  },
  {
   "cell_type": "code",
   "execution_count": 20,
   "id": "7d28aeba-2542-4ff8-b494-660802dbfc33",
   "metadata": {},
   "outputs": [
    {
     "data": {
      "text/plain": [
       "(300000, 100000, 100000)"
      ]
     },
     "execution_count": 20,
     "metadata": {},
     "output_type": "execute_result"
    }
   ],
   "source": [
    "df_train['customer_id'].nunique(), df_valid['customer_id'].nunique(), df_test['customer_id'].nunique(),"
   ]
  },
  {
   "cell_type": "code",
   "execution_count": 21,
   "id": "b092c5d1-73a6-466f-b23c-88de6662200c",
   "metadata": {},
   "outputs": [],
   "source": [
    "df_train.to_csv('df_train.csv')\n",
    "df_valid.to_csv('df_valid.csv')\n",
    "df_valid.to_csv('df_test.csv')"
   ]
  },
  {
   "cell_type": "code",
   "execution_count": null,
   "id": "07f32aae-64e5-43ba-90b4-de04a56e80bb",
   "metadata": {},
   "outputs": [],
   "source": []
  }
 ],
 "metadata": {
  "kernelspec": {
   "display_name": "Python 3 (ipykernel)",
   "language": "python",
   "name": "python3"
  },
  "language_info": {
   "codemirror_mode": {
    "name": "ipython",
    "version": 3
   },
   "file_extension": ".py",
   "mimetype": "text/x-python",
   "name": "python",
   "nbconvert_exporter": "python",
   "pygments_lexer": "ipython3",
   "version": "3.10.9"
  }
 },
 "nbformat": 4,
 "nbformat_minor": 5
}
