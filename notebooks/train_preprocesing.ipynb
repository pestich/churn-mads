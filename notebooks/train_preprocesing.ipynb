{
 "cells": [
  {
   "cell_type": "code",
   "execution_count": 1,
   "id": "a737970b-aa49-4adb-aaa0-7dfa96a3ba82",
   "metadata": {},
   "outputs": [],
   "source": [
    "import pandas as pd\n",
    "import numpy as np\n",
    "import random\n",
    "import matplotlib.pyplot as plt\n",
    "\n",
    "from sklearn.model_selection import train_test_split\n",
    "\n",
    "from tqdm.notebook import tqdm\n",
    "tqdm.pandas()"
   ]
  },
  {
   "cell_type": "code",
   "execution_count": 2,
   "id": "6225a818-7db9-4334-b795-1de6e5e8b5b2",
   "metadata": {},
   "outputs": [],
   "source": [
    "datasets = ['test']"
   ]
  },
  {
   "cell_type": "code",
   "execution_count": 3,
   "id": "b66c3c8d-b274-4ee9-9b2b-07ccffcbc73b",
   "metadata": {},
   "outputs": [],
   "source": [
    "outlet_churn_rate = pd.read_csv('data/outlet_churn_rate.csv')\n",
    "outlet_churn_rate = outlet_churn_rate.groupby(['ownareaall_sqm', 'format_name']).agg({'churn_rate': 'mean'}).sort_values(by='churn_rate')\n",
    "outlet_churn_rate.columns = ['churn_rate']"
   ]
  },
  {
   "cell_type": "code",
   "execution_count": 4,
   "id": "fe02ce3f-9ee4-45a0-b222-0d08744cafcc",
   "metadata": {},
   "outputs": [],
   "source": [
    "def check_sauces(text):\n",
    "    sauces = ['соус', 'кетчуп']\n",
    "    if any(sub in text for sub in sauces):\n",
    "        return 1\n",
    "    return 0 \n",
    "\n",
    "def check_main_food(text):\n",
    "    main_food = ['бургер', 'воппер', 'ролл', 'ангус', 'гранд чиз', 'цезарь', 'стейкхаус', 'чикен', \n",
    "                 'кинг букет', 'бекон кинг', 'острый инди', 'итальяно кинг', 'чеддер бекон', 'а4', 'инди пармезан', \n",
    "                 'острый чеддер', 'беконайзер', 'начос кинг', 'биг кинг', 'льзитер', 'конверт']\n",
    "    if any(sub in text for sub in main_food):\n",
    "        return 1\n",
    "    return 0\n",
    "\n",
    "\n",
    "def check_snacks(text):\n",
    "    snacks = ['фри', 'крылышки', 'креветки', 'луковые', 'кольца', 'наггетс', 'стрипс', 'картофель', \n",
    "              'медальоны', 'карт.', 'кинг гоу', 'деревенский', 'начос бокс', 'попкорн', 'сухарики', 'чипсы']\n",
    "    if any(sub in text for sub in snacks):\n",
    "        return 1\n",
    "    return 0\n",
    "\n",
    "def check_cold_drinks(text):\n",
    "    cold_drinks = ['мандарин', 'фрустайл ', 'пепси', 'миринда', 'дюшес', 'сок', 'кола', 'липтон', \n",
    "                   'эвервесс', 'байкал', 'лимонад', 'севен ап', 'вода', 'flash up', 'адреналин', ]\n",
    "    if any(sub in text for sub in cold_drinks):\n",
    "        return 1\n",
    "    return 0\n",
    "\n",
    "def check_hot_drinks(text):\n",
    "    hot_drinks = ['кофе','эспрессо','латте','капучино','чай','какао']\n",
    "    if any(sub in text for sub in hot_drinks):\n",
    "        return 1\n",
    "    return 0\n",
    "\n",
    "def check_alco(text):\n",
    "    alco = ['пиво', 'балтика']\n",
    "    if any(sub in text for sub in alco):\n",
    "        return 1\n",
    "    return 0\n",
    "\n",
    "def check_desert(text):\n",
    "    desert = ['пирожок', 'рожок', 'улитка', 'сандэй', 'маффин', 'брауни', 'мороженое','айс ист', 'шейк',]\n",
    "    if any(sub in text for sub in desert):\n",
    "        return 1\n",
    "    return 0\n",
    "\n",
    "def outlet_id(row):\n",
    "    try:\n",
    "        return outlet_churn_rate.index.get_loc((row['ownareaall_sqm'], row['format_name']))\n",
    "    except:\n",
    "        return -1\n",
    "\n",
    "def get_churn_rate(row):\n",
    "    try:\n",
    "        return outlet_churn_rate.iloc[row['outlet_id']]\n",
    "    except:\n",
    "        return 0.8\n",
    "\n",
    "def ownareaall_category(ownareaall_sqm, low, medium):\n",
    "        if ownareaall_sqm <= low:\n",
    "            return 0\n",
    "        if ownareaall_sqm <= medium:\n",
    "            return 1\n",
    "        return 2"
   ]
  },
  {
   "cell_type": "code",
   "execution_count": 5,
   "id": "65a1c7f1-492d-41b9-ac40-9e5604c98978",
   "metadata": {},
   "outputs": [
    {
     "name": "stdout",
     "output_type": "stream",
     "text": [
      "Начинаю обработку данных...\n"
     ]
    },
    {
     "data": {
      "application/vnd.jupyter.widget-view+json": {
       "model_id": "d898e621a21c4c9b8c425f7638be5b4b",
       "version_major": 2,
       "version_minor": 0
      },
      "text/plain": [
       "  0%|          | 0/2431249 [00:00<?, ?it/s]"
      ]
     },
     "metadata": {},
     "output_type": "display_data"
    },
    {
     "data": {
      "application/vnd.jupyter.widget-view+json": {
       "model_id": "4da35e0eadd44d8b8bcab27c81c929e3",
       "version_major": 2,
       "version_minor": 0
      },
      "text/plain": [
       "  0%|          | 0/2431249 [00:00<?, ?it/s]"
      ]
     },
     "metadata": {},
     "output_type": "display_data"
    },
    {
     "data": {
      "application/vnd.jupyter.widget-view+json": {
       "model_id": "39aa218aab754ea3a388c72577e249ad",
       "version_major": 2,
       "version_minor": 0
      },
      "text/plain": [
       "  0%|          | 0/2431249 [00:00<?, ?it/s]"
      ]
     },
     "metadata": {},
     "output_type": "display_data"
    },
    {
     "data": {
      "application/vnd.jupyter.widget-view+json": {
       "model_id": "d0eb58f19ba64be5b23cf1e0fedac69f",
       "version_major": 2,
       "version_minor": 0
      },
      "text/plain": [
       "  0%|          | 0/2431249 [00:00<?, ?it/s]"
      ]
     },
     "metadata": {},
     "output_type": "display_data"
    },
    {
     "data": {
      "application/vnd.jupyter.widget-view+json": {
       "model_id": "aa3ec0aae06544ec8f9de7d1a20e68fd",
       "version_major": 2,
       "version_minor": 0
      },
      "text/plain": [
       "  0%|          | 0/2431249 [00:00<?, ?it/s]"
      ]
     },
     "metadata": {},
     "output_type": "display_data"
    },
    {
     "data": {
      "application/vnd.jupyter.widget-view+json": {
       "model_id": "12d3b3ea8b8d42c6821801ba031b583c",
       "version_major": 2,
       "version_minor": 0
      },
      "text/plain": [
       "  0%|          | 0/2431249 [00:00<?, ?it/s]"
      ]
     },
     "metadata": {},
     "output_type": "display_data"
    },
    {
     "data": {
      "application/vnd.jupyter.widget-view+json": {
       "model_id": "ad7a51123deb434a991ba3c7c7089e62",
       "version_major": 2,
       "version_minor": 0
      },
      "text/plain": [
       "  0%|          | 0/2431249 [00:00<?, ?it/s]"
      ]
     },
     "metadata": {},
     "output_type": "display_data"
    },
    {
     "name": "stdout",
     "output_type": "stream",
     "text": [
      "data_food_cat done\n"
     ]
    },
    {
     "data": {
      "application/vnd.jupyter.widget-view+json": {
       "model_id": "5ccdb33411734b92bc92ebb643e9c05d",
       "version_major": 2,
       "version_minor": 0
      },
      "text/plain": [
       "  0%|          | 0/577178 [00:00<?, ?it/s]"
      ]
     },
     "metadata": {},
     "output_type": "display_data"
    },
    {
     "name": "stdout",
     "output_type": "stream",
     "text": [
      "outlet_id done\n"
     ]
    },
    {
     "data": {
      "application/vnd.jupyter.widget-view+json": {
       "model_id": "b870082bfc57480093d6b25916128aaa",
       "version_major": 2,
       "version_minor": 0
      },
      "text/plain": [
       "  0%|          | 0/577178 [00:00<?, ?it/s]"
      ]
     },
     "metadata": {},
     "output_type": "display_data"
    },
    {
     "name": "stdout",
     "output_type": "stream",
     "text": [
      "churn_rate done\n"
     ]
    },
    {
     "name": "stderr",
     "output_type": "stream",
     "text": [
      "C:\\Users\\sergey_qt\\AppData\\Local\\Temp\\ipykernel_12620\\3752089803.py:36: FutureWarning: merging between different levels is deprecated and will be removed in a future version. (1 levels on the left, 2 on the right)\n",
      "  data_day_order_last = data_day_order_last.merge(data_day_diff, on='customer_id')\n",
      "C:\\Users\\sergey_qt\\AppData\\Local\\Temp\\ipykernel_12620\\3752089803.py:36: PerformanceWarning: dropping on a non-lexsorted multi-index without a level parameter may impact performance.\n",
      "  data_day_order_last = data_day_order_last.merge(data_day_diff, on='customer_id')\n"
     ]
    },
    {
     "name": "stdout",
     "output_type": "stream",
     "text": [
      "data_day_order_last done\n",
      "data_area done\n",
      "data_churn_rate done\n",
      "data_revenue done\n",
      "data_target done\n",
      "(100000, 22)\n"
     ]
    }
   ],
   "source": [
    "for dataset in datasets:\n",
    "    file_path = f'df_{dataset}.csv'\n",
    "    df = pd.read_csv(file_path, parse_dates=[6])\n",
    "    print('Начинаю обработку данных...')\n",
    "    df['dish_name'] = df['dish_name'].str.lower()\n",
    "    df['sauces'] = df['dish_name'].progress_apply(check_sauces)\n",
    "    df['main_food'] = df['dish_name'].progress_apply(check_main_food)\n",
    "    df['snacks'] = df['dish_name'].progress_apply(check_snacks)\n",
    "    df['cold_drinks'] = df['dish_name'].progress_apply(check_cold_drinks)\n",
    "    df['hot_drinks'] = df['dish_name'].progress_apply(check_hot_drinks)\n",
    "    df['alco'] = df['dish_name'].progress_apply(check_alco)\n",
    "    df['desert'] = df['dish_name'].progress_apply(check_desert)\n",
    "    data_food_cat = df.groupby(['customer_id','startdatetime'])[['sauces', 'main_food', 'snacks', 'cold_drinks', 'hot_drinks', 'alco', 'desert']].sum()\n",
    "    data_food_cat = data_food_cat.groupby('customer_id')[['sauces', 'main_food', 'snacks', 'cold_drinks', 'hot_drinks', 'alco', 'desert']].mean()\n",
    "    print('data_food_cat done')\n",
    "\n",
    "    data_pivot = pd.pivot_table(df, values=['buy_post', 'date_diff_post', 'format_name','ownareaall_sqm', 'revenue'], \n",
    "                       index=['customer_id','startdatetime'],\n",
    "                       aggfunc={'buy_post': 'max', 'date_diff_post' : 'max','format_name': 'last', 'ownareaall_sqm': 'last', 'revenue': 'sum'})\n",
    "    data_pivot = data_pivot.reset_index()\n",
    "\n",
    "    data_pivot['outlet_id'] = data_pivot[['ownareaall_sqm', 'format_name']].progress_apply(outlet_id, axis=1)\n",
    "    print('outlet_id done')\n",
    "\n",
    "    data_pivot['churn_rate'] = data_pivot[['outlet_id']].progress_apply(get_churn_rate, axis=1)\n",
    "    print('churn_rate done')\n",
    "\n",
    "    cols_num = 3\n",
    "    for i in range(1, cols_num + 1):\n",
    "        data_pivot[f'{i}InvoiceDate'] = data_pivot.groupby('customer_id')['startdatetime'].shift(i)\n",
    "    for i in range(1, cols_num + 1):\n",
    "        data_pivot[f'{i}DayDiff'] = (data_pivot['startdatetime'] - data_pivot[f'{i}InvoiceDate']).dt.seconds\n",
    "    data_day_diff = data_pivot.groupby('customer_id').agg({'1DayDiff': ['mean','std']}).reset_index()\n",
    "    data_day_order_last = data_pivot.drop_duplicates(subset=['customer_id'],keep='last')\n",
    "    data_day_order_last = data_day_order_last[['customer_id', '1DayDiff', '2DayDiff']]\n",
    "    data_day_order_last = data_day_order_last.merge(data_day_diff, on='customer_id')\n",
    "    data_day_order_last.columns = ['customer_id', 'day_diff_1', 'day_diff_2', 'day_diff_mean', 'day_diff_std']\n",
    "    print('data_day_order_last done')\n",
    "\n",
    "    data_area = data_pivot.groupby('customer_id').agg({'ownareaall_sqm': 'mean'}).reset_index()\n",
    "    data_area.columns = ['customer_id','ownareaall_sqm_mean']\n",
    "    print('data_area done')\n",
    "\n",
    "    data_churn_rate = data_pivot.groupby('customer_id').agg({'churn_rate': ['mean','std'],\n",
    "                                                         'outlet_id': lambda x: random.choice(pd.Series.mode(x))}).reset_index()\n",
    "    data_churn_rate.columns = ['customer_id', 'churn_rate_mean', 'churn_rate_std', 'favourite_outlet_id']\n",
    "    data_churn_rate['favourite_churn_rate'] = data_churn_rate['favourite_outlet_id'].apply(lambda x: outlet_churn_rate.iloc[x])\n",
    "    print('data_churn_rate done')\n",
    "\n",
    "    purchase_counts = data_pivot.groupby('customer_id').size()\n",
    "    total_revenue_per_customer = data_pivot.groupby('customer_id')['revenue'].sum()\n",
    "    average_revenue_per_customer = data_pivot.groupby('customer_id')['revenue'].mean()\n",
    "    data_revenue = pd.DataFrame({\n",
    "        'total_revenue': total_revenue_per_customer,\n",
    "        'average_revenue': average_revenue_per_customer,\n",
    "        'count': purchase_counts\n",
    "    })\n",
    "    data_revenue = data_revenue.reset_index()\n",
    "    print('data_revenue done')\n",
    "    data_target = data_pivot.groupby('customer_id').agg({'buy_post': 'last', 'date_diff_post': 'last'}).reset_index()\n",
    "    print('data_target done')\n",
    "    data_full = (data_revenue.merge(data_food_cat, on = 'customer_id')\n",
    "             .merge(data_area, on = 'customer_id')\n",
    "             .merge(data_churn_rate, on = 'customer_id')\n",
    "             .merge(data_day_order_last, on = 'customer_id')\n",
    "             .merge(data_target, on = 'customer_id'))\n",
    "    data_full = data_full.dropna(subset=['day_diff_std'])\n",
    "    print(data_full.shape)\n",
    "    data_full.to_csv(f'data/data_{dataset}_full.csv')"
   ]
  },
  {
   "cell_type": "code",
   "execution_count": null,
   "id": "3813f27b-8014-411d-81e6-96727d511570",
   "metadata": {},
   "outputs": [],
   "source": []
  },
  {
   "cell_type": "code",
   "execution_count": null,
   "id": "6ccc0a20-182a-4262-b298-c5f3603f4051",
   "metadata": {},
   "outputs": [],
   "source": []
  },
  {
   "cell_type": "code",
   "execution_count": null,
   "id": "3089b882-7e1c-4bd2-b4cb-7c6dd682f667",
   "metadata": {},
   "outputs": [],
   "source": []
  },
  {
   "cell_type": "code",
   "execution_count": null,
   "id": "e995a20b-b756-420f-856b-01254dd35233",
   "metadata": {},
   "outputs": [],
   "source": []
  },
  {
   "cell_type": "code",
   "execution_count": null,
   "id": "af4ca548-6cd6-41e7-9587-0de969d268b5",
   "metadata": {},
   "outputs": [],
   "source": []
  },
  {
   "cell_type": "code",
   "execution_count": null,
   "id": "08c3f05f-7f79-4848-b5f3-20cdeb2d196f",
   "metadata": {},
   "outputs": [],
   "source": []
  }
 ],
 "metadata": {
  "kernelspec": {
   "display_name": "Python 3 (ipykernel)",
   "language": "python",
   "name": "python3"
  },
  "language_info": {
   "codemirror_mode": {
    "name": "ipython",
    "version": 3
   },
   "file_extension": ".py",
   "mimetype": "text/x-python",
   "name": "python",
   "nbconvert_exporter": "python",
   "pygments_lexer": "ipython3",
   "version": "3.10.9"
  }
 },
 "nbformat": 4,
 "nbformat_minor": 5
}
